{
 "cells": [
  {
   "cell_type": "code",
   "execution_count": null,
   "metadata": {},
   "outputs": [],
   "source": [
    "using SymPy"
   ]
  },
  {
   "cell_type": "code",
   "execution_count": null,
   "metadata": {},
   "outputs": [],
   "source": [
    "E₁ = symbols(\"E₁\")\n",
    "E = symbols(\"E\")\n",
    "σ_y = symbols(\"σ_y\")\n",
    "η = symbols(\"η\") \n",
    "εₙ = symbols(\"εₙ\")\n",
    "ε = symbols(\"ε\")\n",
    "σₙ = symbols(\"σₙ\")\n",
    "σ = symbols(\"σ\")\n",
    "Δt = symbols(\"Δt\")"
   ]
  },
  {
   "cell_type": "code",
   "execution_count": 11,
   "metadata": {},
   "outputs": [
    {
     "data": {
      "text/latex": [
       "\\begin{equation*}- E₁ ε + σ \\left(1 + \\frac{E₁}{E}\\right) - σ_{y} - \\frac{η \\left(ε - εₙ\\right)}{Δt} + \\frac{η \\left(σ - σₙ\\right)}{E Δt}\\end{equation*}"
      ],
      "text/plain": [
       "          ⎛    E₁⎞         η⋅(ε - εₙ)   η⋅(σ - σₙ)\n",
       "-E₁⋅ε + σ⋅⎜1 + ──⎟ - σ_y - ────────── + ──────────\n",
       "          ⎝    E ⎠             Δt          E⋅Δt   "
      ]
     },
     "execution_count": 11,
     "metadata": {},
     "output_type": "execute_result"
    }
   ],
   "source": [
    "σ*(1+E₁/E)+(η/E)*((σ-σₙ)/(Δt))-σ_y-η*((ε-εₙ)/(Δt))-E₁*ε"
   ]
  },
  {
   "cell_type": "code",
   "execution_count": 14,
   "metadata": {},
   "outputs": [
    {
     "data": {
      "text/latex": [
       "\\[ \\left[ \\begin{array}{r}\\frac{E Δt σ - E Δt σ_{y} + E εₙ η + E₁ Δt σ + η σ - η σₙ}{E \\left(E₁ Δt + η\\right)}\\end{array} \\right] \\]"
      ],
      "text/plain": [
       "1-element Array{Sym,1}:\n",
       " (E*Δt*σ - E*Δt*σ_y + E*εₙ*η + E₁*Δt*σ + η*σ - η*σₙ)/(E*(E₁*Δt + η))"
      ]
     },
     "execution_count": 14,
     "metadata": {},
     "output_type": "execute_result"
    }
   ],
   "source": [
    "solution = solve((σ*(1+E₁/E)+(η/E)*((σ-σₙ)/(Δt))-σ_y-η*((ε-εₙ)/(Δt))-E₁*ε), ε)"
   ]
  },
  {
   "cell_type": "code",
   "execution_count": null,
   "metadata": {},
   "outputs": [],
   "source": [
    "solution = solve((σ*(1+E₁/E)+(η/E)*((σ-σₙ)/(Δt))-σ_y-η*((ε-εₙ)/(Δt))-E₁*ε), σ)"
   ]
  },
  {
   "cell_type": "code",
   "execution_count": 16,
   "metadata": {},
   "outputs": [
    {
     "data": {
      "text/latex": [
       "\\[ \\left[ \\begin{array}{r}\\frac{E εₙ + σ - σₙ}{E}\\end{array} \\right] \\]"
      ],
      "text/plain": [
       "1-element Array{Sym,1}:\n",
       " (E*εₙ + σ - σₙ)/E"
      ]
     },
     "execution_count": 16,
     "metadata": {},
     "output_type": "execute_result"
    }
   ],
   "source": [
    "solution = solve((((σ-σₙ)/(Δt))-E*((ε-εₙ)/(Δt))), ε)"
   ]
  },
  {
   "cell_type": "code",
   "execution_count": 17,
   "metadata": {},
   "outputs": [
    {
     "data": {
      "text/latex": [
       "\\[ \\left[ \\begin{array}{r}\\frac{σ}{E₁} - \\frac{σ_{y}}{E₁} + \\frac{σ}{E}\\end{array} \\right] \\]"
      ],
      "text/plain": [
       "1-element Array{Sym,1}:\n",
       " σ/E₁ - σ_y/E₁ + σ/E"
      ]
     },
     "execution_count": 17,
     "metadata": {},
     "output_type": "execute_result"
    }
   ],
   "source": [
    "endcondition = solve((σ*(1+E₁/E)-σ_y-E₁*ε), ε)"
   ]
  }
 ],
 "metadata": {
  "kernelspec": {
   "display_name": "Julia 1.4.1",
   "language": "julia",
   "name": "julia-1.4"
  },
  "language_info": {
   "file_extension": ".jl",
   "mimetype": "application/julia",
   "name": "julia",
   "version": "1.4.1"
  }
 },
 "nbformat": 4,
 "nbformat_minor": 4
}
