{
 "cells": [
  {
   "cell_type": "markdown",
   "metadata": {},
   "source": [
    "# Einführung in die Materialmodellierung - Übung 02 Rheologie\n",
    "## Installation\n",
    " * Wenn sie das Notebook lokal nutzen: Bitte installieren sie Plots, Plotly über den Package Manager von Julia\n",
    "     * gehen sie dafür in das REPL (Julia Shell), drücken sie die Taste \"]\" und tippen sie \"add Plots, Plotly\"\n",
    " * Notebook über Binder hat alles benötigte vorinstalliert"
   ]
  },
  {
   "cell_type": "code",
   "execution_count": null,
   "metadata": {},
   "outputs": [],
   "source": [
    "using Plots;\n",
    "plotly()"
   ]
  },
  {
   "cell_type": "code",
   "execution_count": null,
   "metadata": {},
   "outputs": [],
   "source": [
    "t = collect(0:1:100);"
   ]
  },
  {
   "cell_type": "markdown",
   "metadata": {},
   "source": [
    "**Nun definieren wir Funktionen, die den vorgegebenen $\\varepsilon$ Verlauf erzeugen**"
   ]
  },
  {
   "cell_type": "code",
   "execution_count": null,
   "metadata": {},
   "outputs": [],
   "source": [
    "function constant(max::Float64, t::Array)\n",
    "    load = max * ones(length(t))\n",
    "    return load\n",
    "end\n",
    "\n",
    "function constant_cycle(max::Float64, t::Array)\n",
    "    T = length(t)\n",
    "    load = max * ones(T)\n",
    "    load[(T÷4+1):(T÷2)] .= 0\n",
    "    load[(T*3÷4+1):T] .= 0\n",
    "    return load\n",
    "end\n",
    "\n",
    "function sinus(max::Float64, t::Array)\n",
    "    load = max * sin.(8*pi/100*t)\n",
    "    return load\n",
    "end;"
   ]
  },
  {
   "cell_type": "markdown",
   "metadata": {},
   "source": [
    "**Visualisierung der Belastung**\n",
    "\n",
    "Der Plot ist interaktiv, Sie können auf der rechten Seite auswählen, welche Funktion angezeigt werden soll.\n",
    "\n",
    "Möchten Sie eine Funktion entfernen, klicken sie auf den Namen in der Legende"
   ]
  },
  {
   "cell_type": "code",
   "execution_count": null,
   "metadata": {},
   "outputs": [],
   "source": [
    "plot(constant(0.1, t), ylabel=\"ε oder σ\", xlabel=\"Zeit t\", label=\"konstant\", line=5)\n",
    "plot!(constant_cycle(0.1, t), line=5, label=\"zyklisch konstant\")\n",
    "plot!(sinus(0.1, t), line=5, label=\"sinus\")"
   ]
  },
  {
   "cell_type": "markdown",
   "metadata": {},
   "source": [
    "## Aufgabe 2.1\n",
    "**Wenden sie auf die in der Vorlesung hergeleitete Differentialgleichung des Standard Modells das implizite Euler Verfahren an, indem Sie die Zeitableitungen durch**\n",
    "\n",
    "$$\\dot{\\sigma}\\approx\\frac{\\sigma_{n+1} - \\sigma_n}{\\Delta t} \\qquad \\text{und} \\qquad \\dot{\\varepsilon}\\approx \\frac{\\varepsilon_{n+1} - \\varepsilon_n}{\\Delta t}$$\n",
    "**substituieren**"
   ]
  },
  {
   "cell_type": "markdown",
   "metadata": {},
   "source": [
    "**Zener$_M$ Modell / Standard Modell in Maxwell Repräsentation**\n",
    "\n",
    "![title](figures/01_ZenerM.png)\n",
    "\n",
    "$$\\dot{\\sigma} + \\frac{E_M}{\\eta_M} \\sigma = (E_H+E_H)\\dot{\\varepsilon}+\\frac{E_H E_M}{\\eta_M}\\varepsilon$$\n",
    "$$\\sigma_{n+1}= ...$$\n",
    "$$\\varepsilon_{n+1} = ...$$"
   ]
  },
  {
   "cell_type": "code",
   "execution_count": null,
   "metadata": {},
   "outputs": [],
   "source": [
    "function zenerₘ_σ(Eₘ::Float64, Eₕ::Float64, ηₘ::Float64, ε::Array, t::Array)\n",
    "    σ = zeros(length(t))\n",
    "    Δε = zeros(length(t))\n",
    "    σ[1] = \n",
    "    for i in 1:length(t)-1\n",
    "        Δt = \n",
    "        Δε[i+1] = \n",
    "        σ[i+1] = \n",
    "    end\n",
    "    return σ, Δε;\n",
    "end\n",
    "\n",
    "function zenerₘ_ε(Eₘ::Float64, Eₕ::Float64, ηₘ::Float64, σ::Array, t::Array)\n",
    "    \n",
    "    return ε, Δσ\n",
    "end"
   ]
  },
  {
   "cell_type": "markdown",
   "metadata": {},
   "source": [
    "**Relaxationsversuch**"
   ]
  },
  {
   "cell_type": "code",
   "execution_count": null,
   "metadata": {},
   "outputs": [],
   "source": [
    "Eₕ = 20.\n",
    "Eₘ = 100.\n",
    "ηₘ = 1000.\n",
    "σ_ZenerM, Δε_ZenerM = zenerₘ_σ(Eₘ, Eₕ, ηₘ, constant(0.01, t), t);\n",
    "plot(t,σ_ZenerM, ylabel=\"σ\", xlabel=\"Zeit t\", label=\"Zener M\", line=5, color=\"red\")"
   ]
  },
  {
   "cell_type": "markdown",
   "metadata": {},
   "source": [
    "**Kriechversuch**"
   ]
  },
  {
   "cell_type": "code",
   "execution_count": null,
   "metadata": {},
   "outputs": [],
   "source": [
    "Eₕ = 20.\n",
    "Eₘ = 100.\n",
    "ηₘ = 100.\n",
    "ε_ZenerM, Δε_ZenerM = zenerₘ_ε(Eₘ, Eₕ, ηₘ, constant(1., t), t);\n",
    "plot(t,ε_ZenerM, ylabel=\"ε\", xlabel=\"Zeit t\", label=\"Zener M\", line=5)"
   ]
  },
  {
   "cell_type": "markdown",
   "metadata": {},
   "source": [
    "## Aufgabe 2.2"
   ]
  },
  {
   "cell_type": "markdown",
   "metadata": {},
   "source": [
    "**Implementieren Sie das Modell, welches in der Übung hergeleitet wurde**"
   ]
  },
  {
   "cell_type": "markdown",
   "metadata": {},
   "source": [
    "$$\\frac{E_H+E}{E_H}\\frac{\\varepsilon_{n+1}-\\varepsilon_n}{\\Delta t}+\\left(\\frac{E_K+E}{\\eta_K}+\\frac{E}{\\eta_K}\\right)\\varepsilon_{n+1} = \\frac{1}{E_H} \\frac{\\sigma_{n+1}-\\sigma_n}{\\Delta t} + \\frac{E_H+E_K}{E_H \\eta_K} \\sigma_{n+1}$$"
   ]
  },
  {
   "cell_type": "code",
   "execution_count": null,
   "metadata": {},
   "outputs": [],
   "source": [
    "function modell_ε(E::Float64, Eₕ::Float64, Eₖ::Float64, ηₖ::Float64, σ::Array, t::Array)\n",
    "\n",
    "end"
   ]
  },
  {
   "cell_type": "code",
   "execution_count": null,
   "metadata": {},
   "outputs": [],
   "source": [
    "Eₕ = 100.\n",
    "Eₖ = 20.\n",
    "E = 10.\n",
    "ηₖ = 100.\n",
    "ε_Modell, Δε_Modell = modell_ε(E, Eₕ, Eₖ, ηₖ, constant(1., t), t);\n",
    "plot(t,ε_ZenerM, ylabel=\"ε\", xlabel=\"Zeit t\", label=\"Zener M\", line=5)\n",
    "plot!(t, ε_Modell, label =\"Mehrparameter\", line=5)"
   ]
  },
  {
   "cell_type": "markdown",
   "metadata": {},
   "source": [
    "**Endbedingung**\n",
    "$$\\varepsilon(\\infty)= ... $$"
   ]
  },
  {
   "cell_type": "code",
   "execution_count": null,
   "metadata": {},
   "outputs": [],
   "source": [
    "ε_∞ = (Eₕ+Eₖ)/(Eₕ*(Eₖ+2*E))*1"
   ]
  }
 ],
 "metadata": {
  "@webio": {
   "lastCommId": "aed7db4f1e6b49108784248ebd2e11b4",
   "lastKernelId": "43b1819a-4fbb-440a-8660-45bf0cf2e200"
  },
  "kernelspec": {
   "display_name": "Julia 1.3.1",
   "language": "julia",
   "name": "julia-1.3"
  },
  "language_info": {
   "file_extension": ".jl",
   "mimetype": "application/julia",
   "name": "julia",
   "version": "1.3.1"
  }
 },
 "nbformat": 4,
 "nbformat_minor": 4
}
