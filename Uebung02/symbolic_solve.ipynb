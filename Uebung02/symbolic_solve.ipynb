{
 "cells": [
  {
   "cell_type": "code",
   "execution_count": 3,
   "metadata": {},
   "outputs": [],
   "source": [
    "using SymPy"
   ]
  },
  {
   "cell_type": "code",
   "execution_count": 14,
   "metadata": {},
   "outputs": [
    {
     "data": {
      "text/latex": [
       "\\begin{equation*}Δt\\end{equation*}"
      ],
      "text/plain": [
       "Δt"
      ]
     },
     "execution_count": 14,
     "metadata": {},
     "output_type": "execute_result"
    }
   ],
   "source": [
    "Eₕ = symbols(\"Eₕ\")\n",
    "Eₖ = symbols(\"Eₖ\")\n",
    "E = symbols(\"E\")\n",
    "η = symbols(\"η\") \n",
    "εₙ = symbols(\"εₙ\")\n",
    "ε = symbols(\"ε\")\n",
    "σₙ = symbols(\"σₙ\")\n",
    "σ = symbols(\"σ\")\n",
    "Δt = symbols(\"Δt\")"
   ]
  },
  {
   "cell_type": "code",
   "execution_count": 18,
   "metadata": {},
   "outputs": [
    {
     "data": {
      "text/latex": [
       "\\[ \\left[ \\begin{array}{r}\\frac{E εₙ η + Eₕ Δt σ + Eₕ εₙ η + Eₖ Δt σ + η σ - η σₙ}{2 E Eₕ Δt + E η + Eₕ Eₖ Δt + Eₕ η}\\end{array} \\right] \\]"
      ],
      "text/plain": [
       "1-element Array{Sym,1}:\n",
       " (E*εₙ*η + Eₕ*Δt*σ + Eₕ*εₙ*η + Eₖ*Δt*σ + η*σ - η*σₙ)/(2*E*Eₕ*Δt + E*η + Eₕ*Eₖ*Δt + Eₕ*η)"
      ]
     },
     "execution_count": 18,
     "metadata": {},
     "output_type": "execute_result"
    }
   ],
   "source": [
    "solve(((Eₕ+E)/(Eₕ))*((ε-εₙ)/(Δt)) + ((Eₖ+E)/(η) + E/η)*ε - (σ-σₙ)/(Eₕ*Δt) - ((Eₕ+Eₖ)/(Eₕ*η))*σ, ε)"
   ]
  }
 ],
 "metadata": {
  "kernelspec": {
   "display_name": "Julia 1.4.1",
   "language": "julia",
   "name": "julia-1.4"
  },
  "language_info": {
   "file_extension": ".jl",
   "mimetype": "application/julia",
   "name": "julia",
   "version": "1.4.1"
  }
 },
 "nbformat": 4,
 "nbformat_minor": 4
}
