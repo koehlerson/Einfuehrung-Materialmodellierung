{
 "cells": [
  {
   "cell_type": "markdown",
   "metadata": {},
   "source": [
    "## Uebung 04 - Lineare Elastizität\n",
    "\n",
    "Man stellt bei Materialien oft fest, dass sich das Verhalten von der volumetrischen und deviatorischen Spannungs-Dehnungsrelation oft unterscheidet. Deshalb modelliert man die freie Energiefunktion oftmals in Abhängigkeit der Spur des Dehnungstensors $\\textrm{tr } \\varepsilon$ und der Norm des deviatorischen Anteils des Dehnungstensors $\\vert\\vert \\tilde{\\varepsilon} \\vert\\vert$. Die Spur von $\\varepsilon$ stellt dabei eine passende Metrik für die Volumendehnung dar, während der deviatorische Anteil die Volumen erhaltende Anteile abbildet.\n",
    "\n",
    "Also erhält man generell freie Energiefunktionen der Form\n",
    "\n",
    "\\begin{equation}\n",
    "\\psi = \\hat\\psi(\\textrm{tr } \\mathbf{\\varepsilon},\\vert\\vert \\tilde{\\mathbf{\\varepsilon}} \\vert\\vert) .\n",
    "\\end{equation}\n",
    "\n",
    "Die Aufteilung des Dehnungstensors in volumetrische und deviatorische Anteile ist gegeben durch \n",
    "\n",
    "\\begin{equation*}\n",
    "\\varepsilon = \\frac{1}{3} \\textrm{tr } \\varepsilon \\mathbf{1} + \\tilde{\\varepsilon} .\n",
    "\\end{equation*}\n",
    "\n",
    "Ein häufig auftretender Tensor ist in diesem Kontext der Projektionstensor 4. Stufe\n",
    "\n",
    "\\begin{equation*}\n",
    "\\mathbb P = \\mathbb{I} -\\frac{1}{3} \\mathbf{1} \\otimes \\mathbf{1} ,\n",
    "\\end{equation*}\n",
    "\n",
    "er dient bei der Multiplikation mit einem Tensor als Abbildung, die den Tensor auf ihren jeweiligen deviatorischen Anteil abbildet\n",
    "$\\tilde{\\varepsilon} = \\varepsilon:\\mathbb P$.\n",
    "\n",
    "$\\mathbb{I}$ ist hier der Einheitstensor 4. Stufe."
   ]
  },
  {
   "cell_type": "code",
   "execution_count": 84,
   "metadata": {},
   "outputs": [],
   "source": [
    "using Tensors"
   ]
  },
  {
   "cell_type": "markdown",
   "metadata": {},
   "source": [
    "Tensoren sind in Julia in ihrer Ordnung und Dimension parametrisiert. Das heißt, dass je nach Ordnung und Dimension des Problems, der passende Tensor erzeugt wird."
   ]
  },
  {
   "cell_type": "code",
   "execution_count": 85,
   "metadata": {},
   "outputs": [
    {
     "data": {
      "text/plain": [
       "3×3 SymmetricTensor{2,3,Int64,6}:\n",
       " 1  2  3\n",
       " 2  4  5\n",
       " 3  5  6"
      ]
     },
     "execution_count": 85,
     "metadata": {},
     "output_type": "execute_result"
    }
   ],
   "source": [
    "SymmetricTensor{2,3}(1:6)"
   ]
  },
  {
   "cell_type": "code",
   "execution_count": 86,
   "metadata": {},
   "outputs": [
    {
     "data": {
      "text/plain": [
       "6-element Array{Int64,1}:\n",
       " 1\n",
       " 4\n",
       " 6\n",
       " 5\n",
       " 3\n",
       " 2"
      ]
     },
     "execution_count": 86,
     "metadata": {},
     "output_type": "execute_result"
    }
   ],
   "source": [
    "tovoigt(SymmetricTensor{2,3}(1:6))"
   ]
  },
  {
   "cell_type": "code",
   "execution_count": 87,
   "metadata": {},
   "outputs": [
    {
     "data": {
      "text/plain": [
       "3×3 SymmetricTensor{2,3,Float64,6}:\n",
       " 1.0  0.0  0.0\n",
       " 0.0  1.0  0.0\n",
       " 0.0  0.0  1.0"
      ]
     },
     "execution_count": 87,
     "metadata": {},
     "output_type": "execute_result"
    }
   ],
   "source": [
    "dim = 3\n",
    "𝕀 = one(SymmetricTensor{4, dim})\n",
    "𝐈 = one(SymmetricTensor{2,dim})"
   ]
  },
  {
   "cell_type": "code",
   "execution_count": 88,
   "metadata": {},
   "outputs": [
    {
     "data": {
      "text/plain": [
       "6×6 Array{Float64,2}:\n",
       " 1.0  1.0  1.0  0.0  0.0  0.0\n",
       " 1.0  1.0  1.0  0.0  0.0  0.0\n",
       " 1.0  1.0  1.0  0.0  0.0  0.0\n",
       " 0.0  0.0  0.0  0.0  0.0  0.0\n",
       " 0.0  0.0  0.0  0.0  0.0  0.0\n",
       " 0.0  0.0  0.0  0.0  0.0  0.0"
      ]
     },
     "execution_count": 88,
     "metadata": {},
     "output_type": "execute_result"
    }
   ],
   "source": [
    "tovoigt(𝐈 ⊗ 𝐈)"
   ]
  },
  {
   "cell_type": "code",
   "execution_count": 89,
   "metadata": {},
   "outputs": [
    {
     "data": {
      "text/plain": [
       "6×6 Array{Float64,2}:\n",
       "  0.666667  -0.333333  -0.333333  0.0  0.0  0.0\n",
       " -0.333333   0.666667  -0.333333  0.0  0.0  0.0\n",
       " -0.333333  -0.333333   0.666667  0.0  0.0  0.0\n",
       "  0.0        0.0        0.0       0.5  0.0  0.0\n",
       "  0.0        0.0        0.0       0.0  0.5  0.0\n",
       "  0.0        0.0        0.0       0.0  0.0  0.5"
      ]
     },
     "execution_count": 89,
     "metadata": {},
     "output_type": "execute_result"
    }
   ],
   "source": [
    "ℙ = 𝕀 - 1/3*(𝐈 ⊗ 𝐈)\n",
    "ℙ_voigt =  tovoigt(ℙ)"
   ]
  },
  {
   "cell_type": "code",
   "execution_count": 90,
   "metadata": {},
   "outputs": [
    {
     "data": {
      "text/plain": [
       "6×6 Array{Float64,2}:\n",
       " 1.0  0.0  0.0  0.0  0.0  0.0\n",
       " 0.0  1.0  0.0  0.0  0.0  0.0\n",
       " 0.0  0.0  1.0  0.0  0.0  0.0\n",
       " 0.0  0.0  0.0  0.5  0.0  0.0\n",
       " 0.0  0.0  0.0  0.0  0.5  0.0\n",
       " 0.0  0.0  0.0  0.0  0.0  0.5"
      ]
     },
     "execution_count": 90,
     "metadata": {},
     "output_type": "execute_result"
    }
   ],
   "source": [
    "𝕀_voigt = tovoigt(𝕀)"
   ]
  },
  {
   "cell_type": "markdown",
   "metadata": {},
   "source": [
    "The 4th-order tensors, e.g. the 4th-order unity tensor\n",
    "\\begin{equation*}\n",
    "\\mathbb I = \n",
    "\\begin{array}{cc}\n",
    "{\\small\n",
    "\\begin{array}{ccccccccc}\n",
    "11 & 22 & 33 & 12 & 23 & 13 & 21 & 32 & 31 \n",
    "\\end{array}\n",
    "} &\n",
    "\\\\\n",
    "\\left[\n",
    "\\renewcommand{\\arraystretch}{1.1}\n",
    "\\begin{array}{ccc|ccc|ccc}\n",
    "\\,1\\,&\\,0\\,&\\,0\\,&\\,0\\,&\\,0\\,&\\,0\\,&\\,0\\,&\\,0\\,&0\\,\\\\\n",
    "0&1&0&0&0&0&0&0&0\\\\\n",
    "0&0&1&0&0&0&0&0&0\\\\ \\hline\n",
    "0&0&0&1&0&0&0&0&0\\\\\n",
    "0&0&0&0&1&0&0&0&0\\\\\n",
    "0&0&0&0&0&1&0&0&0\\\\ \\hline\n",
    "0&0&0&0&0&0&1&0&0\\\\\n",
    "0&0&0&0&0&0&0&1&0\\\\\n",
    "0&0&0&0&0&0&0&0&1\n",
    "\\end{array}\n",
    "\\right] &\n",
    "{\\small\n",
    "\\renewcommand{\\arraystretch}{1.33}\n",
    "\\begin{array}{c}\n",
    "11 \\\\\n",
    "22 \\\\\n",
    "33 \\\\\n",
    "12 \\\\\n",
    "23 \\\\\n",
    "13 \\\\\n",
    "21 \\\\\n",
    "32 \\\\\n",
    "31\n",
    "\\end{array}\n",
    "}\n",
    "\\end{array} \\, , \n",
    "\\end{equation*}\n",
    "\n",
    "are reduced to 6x6-matrices by\n",
    "\n",
    "i) respecting symmetry of the strain tensor (sum the last two columns and divide by 2):\n",
    "\\begin{equation*}\n",
    "\\Rightarrow \n",
    "\\left[\n",
    "\\renewcommand{\\arraystretch}{1.1}\n",
    "\\begin{array}{ccc|ccc}\n",
    "1&0&0&0&0&0\\\\\n",
    "0&1&0&0&0&0\\\\\n",
    "0&0&1&0&0&0\\\\ \\hline\n",
    "0&0&0&\\frac{1}{2}&0&0\\\\\n",
    "0&0&0&0&\\frac{1}{2}&0\\\\\n",
    "0&0&0&0&0&\\frac{1}{2}\\\\ \\hline\n",
    "0&0&0&\\frac{1}{2}&0&0\\\\\n",
    "0&0&0&0&\\frac{1}{2}&0\\\\\n",
    "0&0&0&0&0&\\frac{1}{2}\n",
    "\\end{array}\n",
    "\\right]\n",
    "\\end{equation*}\n",
    "\n",
    "and ii) respecting symmetry of the stress tensor (sum the last two \n",
    "rows and divide by 2):\n",
    "\\begin{equation*}\n",
    "\\Rightarrow \n",
    "\\left[\n",
    "\\renewcommand{\\arraystretch}{1.1}\n",
    "\\begin{array}{ccc|ccc}\n",
    "1&0&0&0&0&0\\\\\n",
    "0&1&0&0&0&0\\\\\n",
    "0&0&1&0&0&0\\\\ \\hline\n",
    "0&0&0&\\frac{1}{2}&0&0\\\\\n",
    "0&0&0&0&\\frac{1}{2}&0\\\\\n",
    "0&0&0&0&0&\\frac{1}{2}\n",
    "\\end{array}\n",
    "\\right] = \\bar{\\mathbb I} \\, .\n",
    "\\end{equation*}"
   ]
  },
  {
   "cell_type": "markdown",
   "metadata": {},
   "source": [
    "### Aufgabe 4.1a\n",
    "\n",
    "Bilden Sie mithilfe der Kettenregel die allgemeine Ableitungsregel für die definierte freie Energiefunktion $\\hat\\psi$, so dass Sie $\\sigma$ erhalten\n",
    "\n",
    "\\begin{equation*}\n",
    "\\sigma = \\dfrac{\\partial\\psi}{\\partial\\varepsilon} \n",
    "= \\dfrac{\\partial\\psi}{\\partial\\mathrm{tr} \\; \\varepsilon}\\;\\dfrac{\\partial\\mathrm{tr} \\;\\varepsilon}{\\partial\\varepsilon}\n",
    "+ \\dfrac{\\partial\\psi}{\\partial\\vert\\vert \\tilde{\\varepsilon} \\vert\\vert}\n",
    "\\;\\dfrac{\\partial\\vert\\vert \\tilde{\\varepsilon} \\vert\\vert}{\\partial\\tilde{\\varepsilon}}\n",
    ":\\dfrac{\\partial\\tilde{\\varepsilon}}{\\partial\\varepsilon} \\, .\n",
    "\\end{equation*}"
   ]
  },
  {
   "cell_type": "markdown",
   "metadata": {},
   "source": [
    "### Aufgabe 4.1b\n",
    "\n",
    "Expandieren bzw. lösen sie alle $\\hat\\psi$ unabhängigen Terme auf\n",
    "\\begin{equation*}\n",
    "\\begin{array}{lll}\n",
    "\\dfrac{\\partial\\mathrm{tr} \\;\\varepsilon}{\\partial\\varepsilon} \n",
    "                   &= \n",
    "\\dfrac{\\partial(\\varepsilon_{11}+\\varepsilon_{22}+\\varepsilon_{33})}\n",
    "                      {\\partial\\varepsilon} \n",
    "                    = \\left[\\begin{array}{ccc}1&0&0 \\\\ 0&1&0 \n",
    "\\\\0&0&1\\end{array}\\right]\n",
    "                   &= \\mathbf{1} \\, ,\\\\\n",
    "& \\\\\n",
    "\\dfrac{\\partial\\vert\\vert \\tilde{\\varepsilon} \\vert\\vert}{\\partial\\tilde{\\varepsilon}}\n",
    "                   &= \\dfrac{\\partial[(\\tilde{\\varepsilon})_{11}^2+(\\tilde{\\varepsilon})_{12}^2+\n",
    "                      ...(\\tilde{\\varepsilon})_{33}^2]^{\\frac{1}{2}}}{\\partial\\tilde{\\varepsilon}}\n",
    "                   &= \\dfrac{\\tilde{\\varepsilon}}{\\vert\\vert \\tilde{\\varepsilon} \\vert\\vert} \\, ,\\\\\n",
    "& \\\\\n",
    "\\dfrac{\\partial\\tilde{\\varepsilon}}{\\partial\\varepsilon}\n",
    "                   &= \\dfrac{\\partial(\\varepsilon-\\frac{1}{3}\\mathrm{tr} \\;\\varepsilon\\mathbf{1})}{\\partial\\varepsilon} \n",
    "                    = \\mathbb I - \\frac{1}{3}\\mathbf{1}\\otimes\\mathbf{1} \n",
    "                   &= \\mathbb P \\, ,\n",
    "\\end{array}\n",
    "\\end{equation*}"
   ]
  },
  {
   "cell_type": "markdown",
   "metadata": {},
   "source": [
    "## Aufgabe 4.2\n",
    "\n",
    "Gegeben ist die freie Energiefunktion\n",
    "\\begin{equation*}\n",
    "\\psi = \\frac{1}{2} \\kappa \\,(\\mathrm{tr} \\;\\varepsilon)^2 + \\mu\\,\\vert\\vert \\tilde{\\varepsilon} \\vert\\vert^2  \\, .\n",
    "\\label{eq:psi 1}\n",
    "\\end{equation*}"
   ]
  },
  {
   "cell_type": "markdown",
   "metadata": {},
   "source": [
    "### Aufgabe 4.2a\n",
    "\n",
    "Geben Sie die Spannung $\\sigma$ in Abhängigkeit des Dehnungstensors $\\varepsilon$ und Materialparameter $\\kappa$ und $\\mu$ an\n",
    "\n",
    "\\begin{equation*}\n",
    "\\renewcommand{\\arraystretch}{1.8}\n",
    "\\begin{array}{rl}\n",
    "\\sigma &= \\dfrac{\\partial \\psi}{\\partial \\varepsilon}=\\dfrac{\\partial\\psi}{\\partial\\mathrm{tr} \\;\\varepsilon}\\;\\dfrac{\\partial\\mathrm{tr} \\;\\varepsilon}\n",
    "{\\partial\\varepsilon}\n",
    "           + \\dfrac{\\partial\\psi}{\\partial\\vert\\vert \\tilde{\\varepsilon} \\vert\\vert}\n",
    "           \\;\\dfrac{\\partial\\vert\\vert \\tilde{\\varepsilon} \\vert\\vert}{\\partial\\tilde{\\varepsilon}}\n",
    "           :\\dfrac{\\partial\\tilde{\\varepsilon}}{\\partial\\varepsilon} \\\\\n",
    "        &= \\kappa\\,\\mathrm{tr} \\;\\varepsilon\\,\\mathbf{1} + 2\\,\\mu\\,\\tilde{\\varepsilon}\n",
    "\\end{array} \\, .\n",
    "\\end{equation*}"
   ]
  },
  {
   "cell_type": "markdown",
   "metadata": {},
   "source": [
    "### Aufgabe 4.2b\n",
    "\n",
    "Leiten Sie Tangentenmoduli $\\mathbb{C}$ her\n",
    "\n",
    "\\begin{equation*}\n",
    "\\renewcommand{\\arraystretch}{1.8}\n",
    "\\begin{array}{rl}\n",
    "\\mathbb{C} &= \\dfrac{\\partial^2\\psi}{\\partial\\varepsilon\\,\\partial\\varepsilon} = \\dfrac{\\sigma}{\\partial\\varepsilon} = \\dfrac{\\partial\\sigma}{\\partial\\mathrm{tr} \\;\\varepsilon}\\otimes\\dfrac{\\partial\\mathrm{tr} \\;\\varepsilon}\n",
    "{\\partial\\varepsilon}\n",
    "       + \\dfrac{\\partial\\sigma}{\\partial\\tilde{\\varepsilon}}:\\dfrac{\\partial\\tilde{\\varepsilon}}\n",
    "{\\partial\\varepsilon} \\\\\n",
    "    &= \\kappa \\mathbf{1}\\otimes\\mathbf{1} + 2\\,\\mu\\,\\mathbb P\n",
    "\\end{array} \\, .\n",
    "\\end{equation*}"
   ]
  }
 ],
 "metadata": {
  "kernelspec": {
   "display_name": "Julia 1.4.1",
   "language": "julia",
   "name": "julia-1.4"
  },
  "language_info": {
   "file_extension": ".jl",
   "mimetype": "application/julia",
   "name": "julia",
   "version": "1.4.1"
  }
 },
 "nbformat": 4,
 "nbformat_minor": 4
}
