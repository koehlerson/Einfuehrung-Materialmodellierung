{
 "cells": [
  {
   "cell_type": "markdown",
   "metadata": {},
   "source": [
    "## Uebung 04 - Lineare Elastizität\n",
    "\n",
    "Man stellt bei Materialien oft fest, dass sich das Verhalten von der volumetrischen und deviatorischen Spannungs-Dehnungsrelation oft unterscheidet. Deshalb modelliert man die freie Energiefunktion oftmals in Abhängigkeit der Spur des Dehnungstensors $\\textrm{tr } \\mathbf{\\varepsilon}$ und der Norm des deviatorischen Anteils des Dehnungstensors $\\vert\\vert \\tilde{\\mathbf{\\varepsilon}} \\vert\\vert$. Die Spur von $\\mathbf{\\varepsilon}$ stellt dabei eine passende Metrik für die Volumendehnung dar, während der deviatorische Anteil die Volumen erhaltende Anteile der Dehnung abbildet.\n",
    "\n",
    "Also erhält man generell freie Energiefunktionen der Form\n",
    "\n",
    "\\begin{equation}\n",
    "\\psi = \\hat\\psi(\\textrm{tr } \\mathbf{\\varepsilon},\\vert\\vert \\tilde{\\mathbf{\\varepsilon}} \\vert\\vert) .\n",
    "\\end{equation}\n",
    "\n",
    "Die Aufteilung des Dehnungstensors in volumetrische und deviatorische Anteile ist gegeben durch \n",
    "\n",
    "\\begin{equation*}\n",
    "\\mathbf{\\varepsilon} = \\frac{1}{3} \\textrm{tr } \\mathbf{\\varepsilon} \\mathbf{1} + \\tilde{\\mathbf{\\varepsilon}} .\n",
    "\\end{equation*}\n",
    "\n",
    "Ein häufig auftretender Tensor ist in diesem Kontext der Projektionstensor 4. Stufe\n",
    "\n",
    "\\begin{equation*}\n",
    "\\mathbb P = \\mathbb{I} -\\frac{1}{3} \\mathbf{1} \\otimes \\mathbf{1} ,\n",
    "\\end{equation*}\n",
    "\n",
    "er dient bei der Multiplikation mit einem Tensor als Abbildung, die den Tensor auf ihren jeweiligen deviatorischen Anteil abbildet\n",
    "$\\tilde{\\mathbf{\\varepsilon}} = \\mathbf{\\varepsilon}:\\mathbb P$.\n",
    "\n",
    "$\\mathbb{I}$ ist hier der Einheitstensor 4. Stufe."
   ]
  },
  {
   "cell_type": "code",
   "execution_count": null,
   "metadata": {},
   "outputs": [],
   "source": [
    "using Tensors\n",
    "using Plots"
   ]
  },
  {
   "cell_type": "markdown",
   "metadata": {},
   "source": [
    "Tensoren sind in Julia in ihrer Ordnung und Dimension parametrisiert. Das heißt, dass je nach Ordnung und Dimension des Problems, der passende Tensor erzeugt wird."
   ]
  },
  {
   "cell_type": "code",
   "execution_count": null,
   "metadata": {},
   "outputs": [],
   "source": [
    "SymmetricTensor{2,3}(1:6)"
   ]
  },
  {
   "cell_type": "code",
   "execution_count": null,
   "metadata": {},
   "outputs": [],
   "source": [
    "tovoigt(SymmetricTensor{2,3}(1:6))"
   ]
  },
  {
   "cell_type": "code",
   "execution_count": null,
   "metadata": {},
   "outputs": [],
   "source": [
    "dim = 3\n",
    "𝕀 = one(SymmetricTensor{4, dim})\n",
    "𝐈 = one(SymmetricTensor{2,dim})"
   ]
  },
  {
   "cell_type": "code",
   "execution_count": null,
   "metadata": {},
   "outputs": [],
   "source": [
    "tovoigt(𝐈 ⊗ 𝐈)"
   ]
  },
  {
   "cell_type": "code",
   "execution_count": null,
   "metadata": {},
   "outputs": [],
   "source": [
    "ℙ = 𝕀 - 1/3*(𝐈 ⊗ 𝐈)\n",
    "ℙ_voigt =  tovoigt(ℙ)"
   ]
  },
  {
   "cell_type": "code",
   "execution_count": null,
   "metadata": {},
   "outputs": [],
   "source": [
    "𝕀_voigt = tovoigt(𝕀)"
   ]
  },
  {
   "cell_type": "markdown",
   "metadata": {},
   "source": [
    "4. Stufe Tensoren wie z.B. der Einheitstensor 4. Stufe\n",
    "\\begin{equation*}\n",
    "\\mathbb I = \n",
    "\\begin{array}{cc}\n",
    "{\\small\n",
    "\\begin{array}{ccccccccc}\n",
    "11 & 22 & 33 & 12 & 23 & 13 & 21 & 32 & 31 \n",
    "\\end{array}\n",
    "} &\n",
    "\\\\\n",
    "\\left[\n",
    "\\renewcommand{\\arraystretch}{1.1}\n",
    "\\begin{array}{ccc|ccc|ccc}\n",
    "\\,1\\,&\\,0\\,&\\,0\\,&\\,0\\,&\\,0\\,&\\,0\\,&\\,0\\,&\\,0\\,&0\\,\\\\\n",
    "0&1&0&0&0&0&0&0&0\\\\\n",
    "0&0&1&0&0&0&0&0&0\\\\ \\hline\n",
    "0&0&0&1&0&0&0&0&0\\\\\n",
    "0&0&0&0&1&0&0&0&0\\\\\n",
    "0&0&0&0&0&1&0&0&0\\\\ \\hline\n",
    "0&0&0&0&0&0&1&0&0\\\\\n",
    "0&0&0&0&0&0&0&1&0\\\\\n",
    "0&0&0&0&0&0&0&0&1\n",
    "\\end{array}\n",
    "\\right] &\n",
    "{\\small\n",
    "\\renewcommand{\\arraystretch}{1.33}\n",
    "\\begin{array}{c}\n",
    "11 \\\\\n",
    "22 \\\\\n",
    "33 \\\\\n",
    "12 \\\\\n",
    "23 \\\\\n",
    "13 \\\\\n",
    "21 \\\\\n",
    "32 \\\\\n",
    "31\n",
    "\\end{array}\n",
    "}\n",
    "\\end{array} \\, , \n",
    "\\end{equation*}\n",
    "\n",
    "werden zu 6x6-Matrizen reduziert durch\n",
    "\n",
    "i) Beachtung der Symmetrie des Dehnungstensors (aufsummieren der letzten beiden Spalten und durch 2 teilen):\n",
    "\\begin{equation*}\n",
    "\\Rightarrow \n",
    "\\left[\n",
    "\\renewcommand{\\arraystretch}{1.1}\n",
    "\\begin{array}{ccc|ccc}\n",
    "1&0&0&0&0&0\\\\\n",
    "0&1&0&0&0&0\\\\\n",
    "0&0&1&0&0&0\\\\ \\hline\n",
    "0&0&0&\\frac{1}{2}&0&0\\\\\n",
    "0&0&0&0&\\frac{1}{2}&0\\\\\n",
    "0&0&0&0&0&\\frac{1}{2}\\\\ \\hline\n",
    "0&0&0&\\frac{1}{2}&0&0\\\\\n",
    "0&0&0&0&\\frac{1}{2}&0\\\\\n",
    "0&0&0&0&0&\\frac{1}{2}\n",
    "\\end{array}\n",
    "\\right]\n",
    "\\end{equation*}\n",
    "\n",
    "und ii) Beachtung der Symmetrie des Spannungstensors (aufsummieren der letzten beiden Spalten und durch 2 teilen):\n",
    "\\begin{equation*}\n",
    "\\Rightarrow \n",
    "\\left[\n",
    "\\renewcommand{\\arraystretch}{1.1}\n",
    "\\begin{array}{ccc|ccc}\n",
    "1&0&0&0&0&0\\\\\n",
    "0&1&0&0&0&0\\\\\n",
    "0&0&1&0&0&0\\\\ \\hline\n",
    "0&0&0&\\frac{1}{2}&0&0\\\\\n",
    "0&0&0&0&\\frac{1}{2}&0\\\\\n",
    "0&0&0&0&0&\\frac{1}{2}\n",
    "\\end{array}\n",
    "\\right] = \\bar{\\mathbb I} \\, .\n",
    "\\end{equation*}"
   ]
  },
  {
   "cell_type": "markdown",
   "metadata": {},
   "source": [
    "### Aufgabe 4.1a\n",
    "\n",
    "Bilden Sie mithilfe der Kettenregel die allgemeine Ableitungsregel für die definierte freie Energiefunktion $\\hat\\psi$, so dass Sie $\\sigma$ erhalten\n",
    "\n",
    "\\begin{equation*}\n",
    "\\sigma = \\dfrac{\\partial\\psi}{\\partial\\mathbf{\\varepsilon}} \n",
    "= \\ ? \n",
    "\\end{equation*}"
   ]
  },
  {
   "cell_type": "markdown",
   "metadata": {},
   "source": [
    "### Aufgabe 4.1b\n",
    "\n",
    "Expandieren bzw. lösen sie alle $\\hat\\psi$ unabhängigen Terme auf\n"
   ]
  },
  {
   "cell_type": "markdown",
   "metadata": {},
   "source": [
    "## Aufgabe 4.2\n",
    "\n",
    "Gegeben ist die freie Energiefunktion\n",
    "\\begin{equation*}\n",
    "\\psi = \\frac{1}{2} \\kappa \\,(\\mathrm{tr} \\;\\mathbf{\\varepsilon})^2 + \\mu\\,\\vert\\vert \\tilde{\\mathbf{\\varepsilon}} \\vert\\vert^2  \\, .\n",
    "\\label{eq:psi 1}\n",
    "\\end{equation*}"
   ]
  },
  {
   "cell_type": "markdown",
   "metadata": {},
   "source": [
    "### Aufgabe 4.2a\n",
    "\n",
    "Geben Sie die Spannung $\\sigma$ in Abhängigkeit des Dehnungstensors $\\mathbf{\\varepsilon}$ und Materialparameter $\\kappa$ und $\\mu$ an\n",
    "\n",
    "\\begin{equation*}\n",
    "\\renewcommand{\\arraystretch}{1.8}\n",
    "\\begin{array}{rl}\n",
    "\\sigma &= \\dfrac{\\partial \\psi}{\\partial \\mathbf{\\varepsilon}}= ...\n",
    "\\end{array} \\, .\n",
    "\\end{equation*}"
   ]
  },
  {
   "cell_type": "markdown",
   "metadata": {},
   "source": [
    "### Aufgabe 4.2b\n",
    "\n",
    "Leiten Sie Tangentenmoduli $\\mathbb{C}$ her\n",
    "\n",
    "\\begin{equation*}\n",
    "\\renewcommand{\\arraystretch}{1.8}\n",
    "\\begin{array}{rl}\n",
    "\\mathbb{C} &= \\dfrac{\\partial^2\\psi}{\\partial\\mathbf{\\varepsilon}\\,\\partial\\mathbf{\\varepsilon}} = ...\n",
    "\\end{array} \\, .\n",
    "\\end{equation*}"
   ]
  },
  {
   "cell_type": "code",
   "execution_count": null,
   "metadata": {},
   "outputs": [],
   "source": [
    "E = 210000 # E Modul von Stahl in MPa\n",
    "ν = 0.3 # Poissonzahl Stahl\n",
    "κ = E/(3*(1-2*ν)) # Kompressionsmodul MPa\n",
    "μ = E / (2*(1 + ν)) # Schubmodul in MPa\n",
    "\n",
    "ℂ = SymmetricTensor{4, 3}(κ*𝐈⊗𝐈 + 2*μ*ℙ)\n",
    "tovoigt(ℂ)"
   ]
  },
  {
   "cell_type": "code",
   "execution_count": null,
   "metadata": {},
   "outputs": [],
   "source": [
    "function constant(max::Float64, t::Array, ν::Float64)\n",
    "    load = [fromvoigt(SymmetricTensor{2,3},[max, -ν*max, -ν*max, 0, 0, 0]) for step in t]\n",
    "    return load\n",
    "end\n",
    "\n",
    "function constant_cycle(t::Int, t_end::Int)\n",
    "    if (t > t_end÷4+1 && t < t_end÷2) || (t > t_end*3÷4+1 && t < t_end)\n",
    "        return 0\n",
    "    else\n",
    "        return 1\n",
    "    end\n",
    "end\n",
    "    \n",
    "function constant_cycle(max::Float64, t::Array, ν::Float64)\n",
    "    T = t[end]\n",
    "    δ(i,j) = i == j ? 1.0 : 0.0\n",
    "    load = [SymmetricTensor{2,3}((i,j) -> if i==1 max*δ(i,j)*constant_cycle(step,T) else -ν*max*δ(i,j)*constant_cycle(step,T) end) for step in t]\n",
    "    return load\n",
    "end\n",
    "\n",
    "function linear(max::Float64, t::Array, ν::Float64)\n",
    "    T = t[end]\n",
    "    δ(i,j) = i == j ? 1.0 : 0.0\n",
    "    load = [SymmetricTensor{2,3}((i,j) -> if i==1 max*δ(i,j)*linear(step,T) else -ν*max*δ(i,j)*linear(step,T) end) for step in t]\n",
    "    return load\n",
    "end\n",
    "\n",
    "function linear3Directions(max::Float64, t::Array, ν::Float64)\n",
    "    T = t[end]\n",
    "    δ(i,j) = i == j ? 1.0 : 0.0\n",
    "    load = [SymmetricTensor{2,3}((i,j) -> max*δ(i,j)*linear(step,T)) for step in t]\n",
    "    return load\n",
    "end\n",
    "\n",
    "function linear(t::Int, t_end::Int)\n",
    "    return (t/t_end)\n",
    "end"
   ]
  },
  {
   "cell_type": "code",
   "execution_count": null,
   "metadata": {},
   "outputs": [],
   "source": [
    "t = collect(1:1:100);\n",
    "linear(0.1,t,ν)[1]"
   ]
  },
  {
   "cell_type": "code",
   "execution_count": null,
   "metadata": {},
   "outputs": [],
   "source": [
    "σ_linear = SymmetricTensor{2,3}[]\n",
    "ε_linear = linear(0.1,t,ν)\n",
    "\n",
    "for timestep in t\n",
    "    push!(σ_linear, ? )\n",
    "end"
   ]
  },
  {
   "cell_type": "code",
   "execution_count": null,
   "metadata": {},
   "outputs": [],
   "source": [
    "sigma11 = plot(getindex.(ε_linear,1,1),getindex.(σ_linear, 1,1),label=\"index 11\")\n",
    "sigma22 = plot(getindex.(ε_linear,2,2),getindex.(σ_linear, 2,2),label=\"index 22\")\n",
    "sigma33 = plot(getindex.(ε_linear,3,3),getindex.(σ_linear, 3,3),label=\"index 33\")\n",
    "plot(sigma11,sigma22,sigma33,layout=3, size=(900,600))"
   ]
  },
  {
   "cell_type": "code",
   "execution_count": null,
   "metadata": {},
   "outputs": [],
   "source": [
    "σ_linear_3Dir = SymmetricTensor{2,3}[]\n",
    "ε_linear_3Dir = linear3Directions(0.1,t,ν)\n",
    "\n",
    "for timestep in t\n",
    "    push!(σ_linear_3Dir, ? )\n",
    "end"
   ]
  },
  {
   "cell_type": "code",
   "execution_count": null,
   "metadata": {},
   "outputs": [],
   "source": [
    "sigma11 = plot(getindex.(ε_linear_3Dir,1,1),getindex.(σ_linear_3Dir, 1,1),label=\"index 11\")\n",
    "sigma22 = plot(getindex.(ε_linear_3Dir,2,2),getindex.(σ_linear_3Dir, 2,2),label=\"index 22\")\n",
    "sigma33 = plot(getindex.(ε_linear_3Dir,3,3),getindex.(σ_linear_3Dir, 3,3),label=\"index 33\")\n",
    "plot(sigma11,sigma22,sigma33,layout=3, size=(900,700))"
   ]
  },
  {
   "cell_type": "markdown",
   "metadata": {},
   "source": [
    "## Aufgabe 4.3\n",
    "\n",
    "Gegeben ist die freie Energiefunktion\n",
    "\\begin{equation*}\n",
    "\\psi = \\kappa\\,\\left[\\,\\frac{1}{2}\\,(\\mathrm{tr} \\; \\mathbf{\\varepsilon})^2 + k_1\\,\\frac{1}{3}\\,\n",
    "(\\mathrm{tr} \\; \\mathbf{\\varepsilon})^3\\right] \n",
    "      +2\\,\\mu\\,\\left[\\,\\frac{1}{2}\\,\\vert\\vert \\tilde{\\mathbf{\\varepsilon}} \\vert\\vert^2 + k_2\\,\\frac{1}{4}\\vert\\vert \\tilde{\\mathbf{\\varepsilon}} \\vert\\vert^4\\right]\n",
    "\\, \n",
    "\\end{equation*}\n",
    "mit $k_1, k_2\\;\\in\\;[0,1]$. Wenn $k_1, k_2 = 0$ dann bekommen wir lineares Materialverhalten, siehe Aufgabe 1. \n"
   ]
  },
  {
   "cell_type": "markdown",
   "metadata": {},
   "source": [
    "## Aufgabe 4.3a\n",
    "Geben Sie die Spannung $\\sigma$ in Abhängigkeit des Dehnungstensors $\\mathbf{\\varepsilon}$ und Materialparameter $\\kappa$ und $\\mu$ an\n",
    "\n",
    "\\begin{equation*}\n",
    "\\mathbf{\\sigma} = \n",
    "\\end{equation*}"
   ]
  },
  {
   "cell_type": "markdown",
   "metadata": {},
   "source": [
    "### Aufgabe 4.3b\n",
    "\n",
    "Leiten Sie Tangentenmoduli $\\mathbb{C}$ her\n"
   ]
  },
  {
   "cell_type": "code",
   "execution_count": null,
   "metadata": {},
   "outputs": [],
   "source": [
    "E = 210000 # E Modul von Stahl in MPa\n",
    "ν = 0.3 # Poissonzahl Stahl\n",
    "κ = E/(3*(1-2*ν)) # Kompressionsmodul MPa\n",
    "μ = E / (2*(1 + ν)) # Schubmodul in MPa\n",
    "k₁ = 1.0\n",
    "k₂ = 1.0\n",
    "σ_nonlinear = SymmetricTensor{2,3}[]\n",
    "ε_nonlinear = linear3Directions(0.4,t,ν)  \n",
    "\n",
    "for timestep in t\n",
    "    trε = tr(ε_nonlinear[timestep])\n",
    "    devε = dev(ε_nonlinear[timestep])\n",
    "    push!(σ_nonlinear, ? )\n",
    "end"
   ]
  },
  {
   "cell_type": "code",
   "execution_count": null,
   "metadata": {},
   "outputs": [],
   "source": [
    "sigma11 = plot(getindex.(ε_nonlinear,1,1),getindex.(σ_nonlinear, 1,1), label=\"index 11\")\n",
    "sigma22 = plot(getindex.(ε_nonlinear,2,2),getindex.(σ_nonlinear, 2,2), label=\"index 22\")\n",
    "sigma33 = plot(getindex.(ε_nonlinear,3,3),getindex.(σ_nonlinear, 3,3), label=\"index 33\")\n",
    "plot(sigma11,sigma22,sigma33,layout=3,legend=false, size=(800,500))"
   ]
  }
 ],
 "metadata": {
  "kernelspec": {
   "display_name": "Julia 1.4.1",
   "language": "julia",
   "name": "julia-1.4"
  },
  "language_info": {
   "file_extension": ".jl",
   "mimetype": "application/julia",
   "name": "julia",
   "version": "1.4.1"
  }
 },
 "nbformat": 4,
 "nbformat_minor": 4
}
